{
 "cells": [
  {
   "cell_type": "markdown",
   "metadata": {},
   "source": [
    "# PLA"
   ]
  },
  {
   "cell_type": "code",
   "execution_count": 43,
   "metadata": {},
   "outputs": [],
   "source": [
    "import numpy as np\n",
    "import pandas as pd"
   ]
  },
  {
   "cell_type": "code",
   "execution_count": 44,
   "metadata": {},
   "outputs": [],
   "source": [
    "#读取数据\n",
    "data = pd.read_csv('F:\\GIT\\python-MachineLearningInAction\\PLA\\data\\data1.csv',header=None)\n",
    "#print(data.shape)\n",
    "x=data.iloc[:,:2].values\n",
    "y=data.iloc[:,2:].values\n",
    "#print(x)\n",
    "#print(y)"
   ]
  },
  {
   "cell_type": "code",
   "execution_count": 45,
   "metadata": {},
   "outputs": [
    {
     "data": {
      "image/png": "[encoded data removed]",
      "text/plain": [
       "<matplotlib.figure.Figure at 0x212069f0d68>"
      ]
     },
     "metadata": {},
     "output_type": "display_data"
    }
   ],
   "source": [
    "#数据可视化\n",
    "import matplotlib.pyplot as plt\n",
    "plt.scatter(x[:50,[0]],x[:50,[1]],color='blue', marker='o', label='Positive')\n",
    "plt.scatter(x[50:,[0]],x[50:,[1]],color='red',marker='*',label='Negative')\n",
    "plt.xlabel('Feature 1')\n",
    "plt.ylabel('Feature 2')\n",
    "plt.legend(loc = 'upper left')\n",
    "plt.title('Original Data')\n",
    "plt.show()"
   ]
  },
  {
   "cell_type": "code",
   "execution_count": 46,
   "metadata": {},
   "outputs": [
    {
     "name": "stdout",
     "output_type": "stream",
     "text": [
      "[[1.  7.  4.7]\n",
      " [1.  6.4 4.5]\n",
      " [1.  6.9 4.9]\n",
      " [1.  5.5 4. ]\n",
      " [1.  6.5 4.6]\n",
      " [1.  5.7 4.5]\n",
      " [1.  6.3 4.7]\n",
      " [1.  4.9 3.3]\n",
      " [1.  6.6 4.6]\n",
      " [1.  5.2 3.9]\n",
      " [1.  5.  3.5]\n",
      " [1.  5.9 4.2]\n",
      " [1.  6.  4. ]\n",
      " [1.  6.1 4.7]\n",
      " [1.  5.6 3.6]\n",
      " [1.  6.7 4.4]\n",
      " [1.  5.6 4.5]\n",
      " [1.  5.8 4.1]\n",
      " [1.  6.2 4.5]\n",
      " [1.  5.6 3.9]\n",
      " [1.  5.9 4.8]\n",
      " [1.  6.1 4. ]\n",
      " [1.  6.3 4.9]\n",
      " [1.  6.1 4.7]\n",
      " [1.  6.4 4.3]\n",
      " [1.  6.6 4.4]\n",
      " [1.  6.8 4.8]\n",
      " [1.  6.7 5. ]\n",
      " [1.  6.  4.5]\n",
      " [1.  5.7 3.5]\n",
      " [1.  5.5 3.8]\n",
      " [1.  5.5 3.7]\n",
      " [1.  5.8 3.9]\n",
      " [1.  6.  5.1]\n",
      " [1.  5.4 4.5]\n",
      " [1.  6.  4.5]\n",
      " [1.  6.7 4.7]\n",
      " [1.  6.3 4.4]\n",
      " [1.  5.6 4.1]\n",
      " [1.  5.5 4. ]\n",
      " [1.  5.5 4.4]\n",
      " [1.  6.1 4.6]\n",
      " [1.  5.8 4. ]\n",
      " [1.  5.  3.3]\n",
      " [1.  5.6 4.2]\n",
      " [1.  5.7 4.2]\n",
      " [1.  5.7 4.2]\n",
      " [1.  6.2 4.3]\n",
      " [1.  5.1 3. ]\n",
      " [1.  5.7 4.1]\n",
      " [1.  5.1 1.4]\n",
      " [1.  4.9 1.4]\n",
      " [1.  4.7 1.3]\n",
      " [1.  4.6 1.5]\n",
      " [1.  5.  1.4]\n",
      " [1.  5.4 1.7]\n",
      " [1.  4.6 1.4]\n",
      " [1.  5.  1.5]\n",
      " [1.  4.4 1.4]\n",
      " [1.  4.9 1.5]\n",
      " [1.  5.4 1.5]\n",
      " [1.  4.8 1.6]\n",
      " [1.  4.8 1.4]\n",
      " [1.  4.3 1.1]\n",
      " [1.  5.8 1.2]\n",
      " [1.  5.7 1.5]\n",
      " [1.  5.4 1.3]\n",
      " [1.  5.1 1.4]\n",
      " [1.  5.7 1.7]\n",
      " [1.  5.1 1.5]\n",
      " [1.  5.4 1.7]\n",
      " [1.  5.1 1.5]\n",
      " [1.  4.6 1. ]\n",
      " [1.  5.1 1.7]\n",
      " [1.  4.8 1.9]\n",
      " [1.  5.  1.6]\n",
      " [1.  5.  1.6]\n",
      " [1.  5.2 1.5]\n",
      " [1.  5.2 1.4]\n",
      " [1.  4.7 1.6]\n",
      " [1.  4.8 1.6]\n",
      " [1.  5.4 1.5]\n",
      " [1.  5.2 1.5]\n",
      " [1.  5.5 1.4]\n",
      " [1.  4.9 1.5]\n",
      " [1.  5.  1.2]\n",
      " [1.  5.5 1.3]\n",
      " [1.  4.9 1.4]\n",
      " [1.  4.4 1.3]\n",
      " [1.  5.1 1.5]\n",
      " [1.  5.  1.3]\n",
      " [1.  4.5 1.3]\n",
      " [1.  4.4 1.3]\n",
      " [1.  5.  1.6]\n",
      " [1.  5.1 1.9]\n",
      " [1.  4.8 1.4]\n",
      " [1.  5.1 1.6]\n",
      " [1.  4.6 1.4]\n",
      " [1.  5.3 1.5]\n",
      " [1.  5.  1.4]]\n"
     ]
    }
   ],
   "source": [
    "X=x\n",
    "X = np.hstack((np.ones((X.shape[0],1)), X))\n",
    "print(X)"
   ]
  },
  {
   "cell_type": "code",
   "execution_count": 47,
   "metadata": {},
   "outputs": [
    {
     "name": "stdout",
     "output_type": "stream",
     "text": [
      "[[-0.19042569]\n",
      " [ 0.97844969]\n",
      " [ 0.52003824]]\n"
     ]
    }
   ],
   "source": [
    "w = np.random.randn(3,1)  #标准正态分布随机数\n",
    "print(w)"
   ]
  },
  {
   "cell_type": "code",
   "execution_count": 48,
   "metadata": {},
   "outputs": [
    {
     "data": {
      "image/png": "[encoded data removed]",
      "text/plain": [
       "<matplotlib.figure.Figure at 0x21206b88a90>"
      ]
     },
     "metadata": {},
     "output_type": "display_data"
    }
   ],
   "source": [
    "x1=4\n",
    "y1=(w[0]*1+w[1]*x1)/w[2]\n",
    "x2=7\n",
    "y2=(w[0]*1+w[1]*x2)/w[2]\n",
    "plt.scatter(x[:50,[0]],x[:50,[1]],color='blue', marker='o', label='Positive')\n",
    "plt.scatter(x[50:,[0]],x[50:,[1]],color='red',marker='*',label='Negative')\n",
    "plt.plot([x1,x2], [y1,y2],'r')\n",
    "plt.xlabel('Feature 1')\n",
    "plt.ylabel('Feature 2')\n",
    "plt.legend(loc = 'upper left')\n",
    "plt.show()"
   ]
  },
  {
   "cell_type": "code",
   "execution_count": 49,
   "metadata": {},
   "outputs": [
    {
     "name": "stdout",
     "output_type": "stream",
     "text": [
      "50\n",
      "[-1]\n",
      "[1.  5.1 1.4]\n",
      "(3,)\n",
      "[[-1.19042569]\n",
      " [-4.12155031]\n",
      " [-0.87996176]]\n"
     ]
    }
   ],
   "source": [
    "s = np.dot(X, w)\n",
    "p=np.multiply(y,s)\n",
    "#y_pred = np.ones_like(y)    # 预测输出初始化\n",
    "#loc_n = np.where(s < 0)[0]    # 小于零索引下标\n",
    "#y_pred[loc_n] = -1\n",
    "t = np.where(p<0)[0][0]\n",
    "print(t)\n",
    "print(y[t])\n",
    "print(X[t, :])\n",
    "print(X[t, :].shape)\n",
    "w += y[t] * X[t, :].reshape((3,1))\n",
    "print(w)"
   ]
  },
  {
   "cell_type": "code",
   "execution_count": 58,
   "metadata": {
    "scrolled": false
   },
   "outputs": [
    {
     "name": "stdout",
     "output_type": "stream",
     "text": [
      "[50 51 52 53 54 55 56 57 58 59 60 61 62 63 64 65 66 67 68 69 70 71 72 73\n",
      " 74 75 76 77 78 79 80 81 82 83 84 85 86 87 88 89 90 91 92 93 94 95 96 97\n",
      " 98 99]\n",
      "第 0次更新，分类错误的点个数：50\n",
      "[ 0  1  2  3  4  5  6  7  8  9 10 11 12 13 14 15 16 17 18 19 20 21 22 23\n",
      " 24 25 26 27 28 29 30 31 32 33 34 35 36 37 38 39 40 41 42 43 44 45 46 47\n",
      " 48 49]\n",
      "第 1次更新，分类错误的点个数：50\n",
      "[50 51 52 53 54 55 56 57 58 59 60 61 62 63 64 65 66 67 68 69 70 71 72 73\n",
      " 74 75 76 77 78 79 80 81 82 83 84 85 86 87 88 89 90 91 92 93 94 95 96 97\n",
      " 98 99]\n",
      "第 2次更新，分类错误的点个数：50\n",
      "[ 0  1  2  3  4  5  6  7  8  9 10 11 12 13 14 15 16 17 18 19 20 21 22 23\n",
      " 24 25 26 27 28 29 30 31 32 33 34 35 36 37 38 39 40 41 42 43 44 45 46 47\n",
      " 48 49]\n",
      "第 3次更新，分类错误的点个数：50\n",
      "[50 51 52 53 54 55 56 57 58 59 60 61 62 63 64 65 66 67 68 69 70 71 72 73\n",
      " 74 75 76 77 78 79 80 81 82 83 84 85 86 87 88 89 90 91 92 93 94 95 96 97\n",
      " 98 99]\n",
      "第 4次更新，分类错误的点个数：50\n",
      "[50 51 52 53 54 55 56 57 58 59 60 61 62 63 64 65 66 67 68 69 70 71 72 73\n",
      " 74 75 76 77 78 79 80 81 82 83 84 85 86 87 88 89 90 91 92 93 94 95 96 97\n",
      " 98 99]\n",
      "第 5次更新，分类错误的点个数：50\n",
      "[ 0  1  2  3  4  5  6  7  8  9 10 11 12 13 14 15 16 17 18 19 20 21 22 23\n",
      " 24 25 26 27 28 29 30 31 32 33 34 35 36 37 38 39 40 41 42 43 44 45 46 47\n",
      " 48 49]\n",
      "第 6次更新，分类错误的点个数：50\n",
      "[50 51 52 53 54 55 56 57 58 59 60 61 62 63 64 65 66 67 68 69 70 71 72 73\n",
      " 74 75 76 77 78 79 80 81 82 83 84 85 86 87 88 89 90 91 92 93 94 95 96 97\n",
      " 98 99]\n",
      "第 7次更新，分类错误的点个数：50\n",
      "[]\n",
      "第 8次更新，分类错误的点个数： 0\n",
      "[[5.43578626]\n",
      " [5.56057139]\n",
      " [6.19497879]\n",
      " [5.11483908]\n",
      " [5.75074387]\n",
      " [6.44454904]\n",
      " [6.31976392]\n",
      " [3.65734919]\n",
      " [5.62446135]\n",
      " [5.17723164]\n",
      " [4.16397668]\n",
      " [5.24261899]\n",
      " [4.48342647]\n",
      " [6.57232896]\n",
      " [3.72273655]\n",
      " [4.86526882]\n",
      " [6.57083157]\n",
      " [5.05244651]\n",
      " [5.81313643]\n",
      " [4.67210155]\n",
      " [7.14134901]\n",
      " [4.35714395]\n",
      " [6.95267392]\n",
      " [6.57232896]\n",
      " [4.92766139]\n",
      " [4.99155134]\n",
      " [6.00480631]\n",
      " [6.76399884]\n",
      " [6.06570148]\n",
      " [3.27999902]\n",
      " [4.48192907]\n",
      " [4.16547407]\n",
      " [4.41953651]\n",
      " [7.96443149]\n",
      " [6.82339661]\n",
      " [6.06570148]\n",
      " [5.81463383]\n",
      " [5.37039891]\n",
      " [5.30501156]\n",
      " [5.11483908]\n",
      " [6.38065909]\n",
      " [6.25587396]\n",
      " [4.73599151]\n",
      " [3.53106667]\n",
      " [5.62146656]\n",
      " [5.49518404]\n",
      " [5.49518404]\n",
      " [5.18022643]\n",
      " [2.45541914]\n",
      " [5.17872904]\n",
      " [2.60786089]\n",
      " [2.35529585]\n",
      " [2.41918581]\n",
      " [1.65999328]\n",
      " [2.48157837]\n",
      " [2.03734345]\n",
      " [1.97644828]\n",
      " [2.16512337]\n",
      " [1.72388324]\n",
      " [2.03884085]\n",
      " [2.67025346]\n",
      " [1.59610332]\n",
      " [2.22901333]\n",
      " [2.54696572]\n",
      " [4.12474855]\n",
      " [3.04910102]\n",
      " [3.30316346]\n",
      " [2.60786089]\n",
      " [2.41619102]\n",
      " [2.29140589]\n",
      " [2.03734345]\n",
      " [2.29140589]\n",
      " [3.24226829]\n",
      " [1.65849589]\n",
      " [0.64673832]\n",
      " [1.84866837]\n",
      " [1.84866837]\n",
      " [2.41768841]\n",
      " [2.73414341]\n",
      " [1.4698208 ]\n",
      " [1.59610332]\n",
      " [2.67025346]\n",
      " [2.41768841]\n",
      " [3.11299098]\n",
      " [2.03884085]\n",
      " [3.11448837]\n",
      " [3.42944598]\n",
      " [2.35529585]\n",
      " [2.04033824]\n",
      " [2.29140589]\n",
      " [2.79803337]\n",
      " [2.16662076]\n",
      " [2.04033824]\n",
      " [1.84866837]\n",
      " [1.02558588]\n",
      " [2.22901333]\n",
      " [1.97495089]\n",
      " [1.97644828]\n",
      " [2.54397093]\n",
      " [2.48157837]]\n"
     ]
    }
   ],
   "source": [
    "w = np.random.randn(3,1)\n",
    "yita=0.5\n",
    "for i in range(100):\n",
    "    s = np.dot(X, w)\n",
    "    p=np.multiply(y,s)\n",
    "    temp = np.where(p<0)[0]\n",
    "    print(temp)\n",
    "    num_fault = len(temp)\n",
    "    print('第%2d次更新，分类错误的点个数：%2d' % (i, num_fault))\n",
    "    if num_fault == 0:\n",
    "        break\n",
    "    else:\n",
    "        t = np.where(p<0)[0][0]\n",
    "        w += y[t] * X[t, :].reshape((3,1))*yita\n",
    "#print(w)\n",
    "print(np.multiply(y,np.dot(X, w)))"
   ]
  },
  {
   "cell_type": "code",
   "execution_count": 59,
   "metadata": {},
   "outputs": [
    {
     "data": {
      "image/png": "[encoded data removed]",
      "text/plain": [
       "<matplotlib.figure.Figure at 0x21206c18828>"
      ]
     },
     "metadata": {},
     "output_type": "display_data"
    }
   ],
   "source": [
    "x1=4\n",
    "y1=-(w[0]*1+w[1]*x1)/w[2]\n",
    "x2=7\n",
    "y2=-(w[0]*1+w[1]*x2)/w[2]\n",
    "plt.scatter(x[:50,[0]],x[:50,[1]],color='blue', marker='o', label='Positive')\n",
    "plt.scatter(x[50:,[0]],x[50:,[1]],color='red',marker='*',label='Negative')\n",
    "plt.plot([x1,x2], [y1,y2],'r')\n",
    "plt.xlabel('Feature 1')\n",
    "plt.ylabel('Feature 2')\n",
    "plt.legend(loc = 'upper left')\n",
    "plt.show()"
   ]
  },
  {
   "cell_type": "code",
   "execution_count": null,
   "metadata": {},
   "outputs": [],
   "source": []
  }
 ],
 "metadata": {
  "kernelspec": {
   "display_name": "Python 3",
   "language": "python",
   "name": "python3"
  },
  "language_info": {
   "codemirror_mode": {
    "name": "ipython",
    "version": 3
   },
   "file_extension": ".py",
   "mimetype": "text/x-python",
   "name": "python",
   "nbconvert_exporter": "python",
   "pygments_lexer": "ipython3",
   "version": "3.6.4"
  }
 },
 "nbformat": 4,
 "nbformat_minor": 2
}
